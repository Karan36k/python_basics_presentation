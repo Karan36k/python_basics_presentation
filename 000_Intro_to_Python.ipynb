{
 "cells": [
  {
   "cell_type": "markdown",
   "metadata": {},
   "source": [
    "## [Python Introduction](https://github.com/karan36k/python_basics_presentation)"
   ]
  },
  {
   "cell_type": "markdown",
   "metadata": {},
   "source": [
    "✅ **[What is Programming?](https://github.com/karan36k/python_basics_presentation/blob/main/0000_What_is_Programming.ipynb)**"
   ]
  },
  {
   "cell_type": "markdown",
   "metadata": {},
   "source": [
    "✅ **[Introduction to Python](https://github.com/karan36k/python_basics_presentation/blob/main/000_Intro_to_Python.ipynb)**"
   ]
  },
  {
   "cell_type": "markdown",
   "metadata": {},
   "source": [
    "✅ **[Python Programming](https://github.com/karan36k/python_basics_presentation/blob/main/001_Python_Programming.ipynb)**"
   ]
  },
  {
   "cell_type": "markdown",
   "metadata": {},
   "source": [
    "✅ **[Getting Started](https://github.com/karan36k/python_basics_presentation/blob/main/002_How_to_install_Python.ipynb)**"
   ]
  },
  {
   "cell_type": "markdown",
   "metadata": {},
   "source": [
    "✅ **[Jupyter Keyboard Shortcuts Practice](https://github.com/karan36k/python_basics_presentation/blob/main/003_Jupyter_Keyboard_Shortcuts_Practice.ipynb)**"
   ]
  },
  {
   "cell_type": "markdown",
   "metadata": {},
   "source": [
    "✅ **[Hello World](https://github.com/karan36k/python_basics_presentation/blob/main/004_Hello_World.ipynb)**"
   ]
  },
  {
   "cell_type": "markdown",
   "metadata": {},
   "source": [
    "✅ **[Keywords and Identifiers](https://github.com/karan36k/python_basics_presentation/blob/main/005_Python_Keywords_and_Identifiers.ipynb)**"
   ]
  },
  {
   "cell_type": "markdown",
   "metadata": {},
   "source": [
    "✅ **[Statements, Indentation & Comments](https://github.com/karan36k/python_basics_presentation/blob/main/006_Python_Statement_Indentation_Comments.ipynb)**"
   ]
  },
  {
   "cell_type": "markdown",
   "metadata": {},
   "source": [
    "✅ **[Python Variables & Constants](https://github.com/karan36k/python_basics_presentation/blob/main/007_Python_Variables_%26_Constants.ipynb)**"
   ]
  },
  {
   "cell_type": "markdown",
   "metadata": {},
   "source": [
    "✅ **[Python Literals](https://github.com/karan36k/python_basics_presentation/blob/main/008_Python_Literals.ipynb)**"
   ]
  },
  {
   "cell_type": "markdown",
   "metadata": {},
   "source": [
    "✅ **[Python Datatypes](https://github.com/karan36k/python_basics_presentation/blob/main/009_Python_Data_Types.ipynb)**"
   ]
  },
  {
   "cell_type": "markdown",
   "metadata": {},
   "source": [
    "✅ **[Python Type Conversion](https://github.com/karan36k/python_basics_presentation/blob/main/010_Python_Type_Conversion.ipynb)**"
   ]
  },
  {
   "cell_type": "markdown",
   "metadata": {},
   "source": [
    "✅ **[Python I/O and import](https://github.com/karan36k/python_basics_presentation/blob/main/011_Python_Input_Output_Import.ipynb)**"
   ]
  },
  {
   "cell_type": "markdown",
   "metadata": {},
   "source": [
    "✅ **[Python Operators](https://github.com/karan36k/python_basics_presentation/blob/main/012_Python_Operators.ipynb)**"
   ]
  },
  {
   "cell_type": "markdown",
   "metadata": {},
   "source": [
    "✅ **[Python Namespace & Scope](https://github.com/karan36k/python_basics_presentation/blob/main/013_Python_Namespace_and_Scope.ipynb)**"
   ]
  },
  {
   "cell_type": "markdown",
   "metadata": {},
   "source": [
    "✅ **[Python Keyword List](https://github.com/karan36k/python_basics_presentation/blob/main/Python_Keywords_List.ipynb)**"
   ]
  },
  {
   "cell_type": "markdown",
   "metadata": {},
   "source": [
    "## [Python Data Types](https://github.com/karan36k/02_Python_Datatypes)"
   ]
  },
  {
   "cell_type": "markdown",
   "metadata": {},
   "source": [
    "✅ **[Python Numbers](https://github.com/karan36k/02_Python_Datatypes/blob/main/001_Python_Numbers.ipynb)**"
   ]
  },
  {
   "cell_type": "markdown",
   "metadata": {},
   "source": [
    "✅ **[Python String](https://github.com/karan36k/02_Python_Datatypes/blob/main/002_Python_String.ipynb)**"
   ]
  },
  {
   "cell_type": "markdown",
   "metadata": {},
   "source": [
    "✅ **[Python List](https://github.com/karan36k/02_Python_Datatypes/blob/main/003_Python_List.ipynb)**"
   ]
  },
  {
   "cell_type": "markdown",
   "metadata": {},
   "source": [
    "✅ **[Python Tuple](https://github.com/karan36k/02_Python_Datatypes/blob/main/004_Python_Tuple.ipynb)**"
   ]
  },
  {
   "cell_type": "markdown",
   "metadata": {},
   "source": [
    "✅ **[Python Dictionary](https://github.com/karan36k/02_Python_Datatypes/blob/main/005_Python_Dictionary.ipynb)**"
   ]
  },
  {
   "cell_type": "markdown",
   "metadata": {},
   "source": [
    "✅ **[Python Sets](https://github.com/karan36k/02_Python_Datatypes/blob/main/006_Python_Sets.ipynb)**"
   ]
  },
  {
   "cell_type": "markdown",
   "metadata": {},
   "source": [
    "## [Python Flow Control](https://github.com/karan36k/03_Python_Flow_Control)"
   ]
  },
  {
   "cell_type": "markdown",
   "metadata": {},
   "source": [
    "✅ **[Python Flow Control Statement](https://github.com/karan36k/03_Python_Flow_Control/blob/main/000_Python_Flow_Control_statement%20.ipynb)**"
   ]
  },
  {
   "cell_type": "markdown",
   "metadata": {},
   "source": [
    "✅ **[Python if statement](https://github.com/karan36k/03_Python_Flow_Control/blob/main/001_Python_if_statement.ipynb)**"
   ]
  },
  {
   "cell_type": "markdown",
   "metadata": {},
   "source": [
    "✅ **[Python if-else statement](https://github.com/karan36k/03_Python_Flow_Control/blob/main/002_Python_if_else_statement.ipynb)**"
   ]
  },
  {
   "cell_type": "markdown",
   "metadata": {},
   "source": [
    "✅ **[Python if-elif-else statement](https://github.com/karan36k/03_Python_Flow_Control/blob/main/003_Python_if_elif_else_statement%20.ipynb)**"
   ]
  },
  {
   "cell_type": "markdown",
   "metadata": {},
   "source": [
    "✅ **[Python Nested if statement](https://github.com/karan36k/03_Python_Flow_Control/blob/main/004_Python_Nested_if_statement.ipynb)**"
   ]
  },
  {
   "cell_type": "markdown",
   "metadata": {},
   "source": [
    "✅ **[Python for loop](https://github.com/karan36k/03_Python_Flow_Control/blob/main/005_Python_for_Loop.ipynb)**"
   ]
  },
  {
   "cell_type": "markdown",
   "metadata": {},
   "source": [
    "✅ **[Python while loop](https://github.com/karan36k/03_Python_Flow_Control/blob/main/006_Python_while_Loop.ipynb)**"
   ]
  },
  {
   "cell_type": "markdown",
   "metadata": {},
   "source": [
    "✅ **[Python break, continue & pass statements](https://github.com/karan36k/03_Python_Flow_Control/blob/main/007_Python_break_continue_pass_statement.ipynb)**"
   ]
  },
  {
   "cell_type": "markdown",
   "metadata": {},
   "source": [
    "## [Python Functions](https://github.com/karan36k/04_Python_Functions)"
   ]
  },
  {
   "cell_type": "markdown",
   "metadata": {},
   "source": [
    "✅ **[Python Functions](https://github.com/karan36k/04_Python_Functions/blob/main/001_Python_Functions.ipynb)**"
   ]
  },
  {
   "cell_type": "markdown",
   "metadata": {},
   "source": [
    "✅ **[Types of Functions](https://github.com/karan36k/04_Python_Functions/blob/main/002_Python_Types_of_functions.ipynb)**"
   ]
  },
  {
   "cell_type": "markdown",
   "metadata": {},
   "source": [
    "✅ **[Function Argument](https://github.com/karan36k/04_Python_Functions/blob/main/003_Python_Function_Argument.ipynb)**"
   ]
  },
  {
   "cell_type": "markdown",
   "metadata": {},
   "source": [
    "✅ **[Python Recursion](https://github.com/karan36k/04_Python_Functions/blob/main/004_Python_Recursion.ipynb)**"
   ]
  },
  {
   "cell_type": "markdown",
   "metadata": {},
   "source": [
    "✅ **[Python Lambda Functions](https://github.com/karan36k/04_Python_Functions/blob/main/005_Python_Lambda_function.ipynb)**"
   ]
  },
  {
   "cell_type": "markdown",
   "metadata": {},
   "source": [
    "✅ **[Python Modules](https://github.com/karan36k/04_Python_Functions/blob/main/006_Python_Modules.ipynb)**"
   ]
  },
  {
   "cell_type": "markdown",
   "metadata": {},
   "source": [
    "✅ **[Python Package](https://github.com/karan36k/04_Python_Functions/blob/main/007_Python_Package.ipynb)**"
   ]
  },
  {
   "cell_type": "markdown",
   "metadata": {},
   "source": [
    "## [Python Object-Oriented Programming](https://github.com/karan36k/05_Python_Object_Oriented_Programming)"
   ]
  },
  {
   "cell_type": "markdown",
   "metadata": {},
   "source": [
    "✅ **[Python OOPs Concepts](https://github.com/karan36k/05_Python_Object_Oriented_Programming/blob/main/001_Python_OOPs_Concept.ipynb)**"
   ]
  },
  {
   "cell_type": "markdown",
   "metadata": {},
   "source": [
    "✅ **[Python Class](https://github.com/karan36k/05_Python_Object_Oriented_Programming/blob/main/002_Python_Class.ipynb)**"
   ]
  },
  {
   "cell_type": "markdown",
   "metadata": {},
   "source": [
    "✅ **[Python Objects](https://github.com/karan36k/05_Python_Object_Oriented_Programming/blob/main/003_Python_Objects.ipynb)**"
   ]
  },
  {
   "cell_type": "markdown",
   "metadata": {},
   "source": [
    "✅ **[Python Inheritance](https://github.com/karan36k/05_Python_Object_Oriented_Programming/blob/main/004_Python_Inheritance.ipynb)**"
   ]
  },
  {
   "cell_type": "markdown",
   "metadata": {},
   "source": [
    "✅ **[Python Constructors](https://github.com/karan36k/05_Python_Object_Oriented_Programming/blob/main/005_Python_Constructors.ipynb)**"
   ]
  },
  {
   "cell_type": "markdown",
   "metadata": {},
   "source": [
    "✅ **[Python Destructor](https://github.com/karan36k/05_Python_Object_Oriented_Programming/blob/main/006_Python_Destructor.ipynb)**"
   ]
  },
  {
   "cell_type": "markdown",
   "metadata": {},
   "source": [
    "✅ **[Python Super()](https://github.com/karan36k/05_Python_Object_Oriented_Programming/blob/main/007_Python_super%28%29.ipynb)**"
   ]
  },
  {
   "cell_type": "markdown",
   "metadata": {},
   "source": [
    "✅ **[Python Getter and Setter](https://github.com/karan36k/05_Python_Object_Oriented_Programming/blob/main/008_Python_Getter_Setter.ipynb)**"
   ]
  },
  {
   "cell_type": "markdown",
   "metadata": {},
   "source": [
    "✅ **[Python Polymorphism](https://github.com/karan36k/05_Python_Object_Oriented_Programming/blob/main/009_Python_Polymorphism.ipynb)**"
   ]
  },
  {
   "cell_type": "markdown",
   "metadata": {},
   "source": [
    "## [Python File Handling](https://github.com/karan36k/06_Python_File_Handling)"
   ]
  },
  {
   "cell_type": "markdown",
   "metadata": {},
   "source": [
    "✅ **[Python File Operation](https://github.com/karan36k/06_Python_File_Handling/blob/main/001_Python_File_Operation.ipynb)**"
   ]
  },
  {
   "cell_type": "markdown",
   "metadata": {},
   "source": [
    "✅ **[Python Directory](https://github.com/karan36k/06_Python_File_Handling/blob/main/002_Python_Directory.ipynb)**"
   ]
  },
  {
   "cell_type": "markdown",
   "metadata": {},
   "source": [
    "## [Python Exception Handling](https://github.com/karan36k/07_Python_Exception_Handling)"
   ]
  },
  {
   "cell_type": "markdown",
   "metadata": {},
   "source": [
    "✅ **[Python Exception](https://github.com/karan36k/07_Python_Exception_Handling/blob/main/001_Python_Exception.ipynb)**"
   ]
  },
  {
   "cell_type": "markdown",
   "metadata": {},
   "source": [
    "✅ **[Try Except in Python](https://github.com/karan36k/07_Python_Exception_Handling/blob/main/002_Python_Try_Except.ipynb)**"
   ]
  },
  {
   "cell_type": "markdown",
   "metadata": {},
   "source": [
    "✅ **[Python Try Except Else](https://github.com/karan36k/07_Python_Exception_Handling/blob/main/003_Python_Try_Except_Else.ipynb)**"
   ]
  },
  {
   "cell_type": "markdown",
   "metadata": {},
   "source": [
    "✅ **[Python Try Finally](https://github.com/karan36k/07_Python_Exception_Handling/blob/main/004_Python_Try_Finally.ipynb)**"
   ]
  },
  {
   "cell_type": "markdown",
   "metadata": {},
   "source": [
    "✅ **[Python Raise Keyword](https://github.com/karan36k/07_Python_Exception_Handling/blob/main/005_Python_Raise_Keyword.ipynb)**"
   ]
  },
  {
   "cell_type": "markdown",
   "metadata": {},
   "source": [
    "✅ **[Python User Defined Exception](https://github.com/karan36k/07_Python_Exception_Handling/blob/main/006_Python_User_Defined_Exception.ipynb)**"
   ]
  }
 ],
 "metadata": {
  "kernelspec": {
   "display_name": "Python 3",
   "language": "python",
   "name": "python3"
  },
  "language_info": {
   "codemirror_mode": {
    "name": "ipython",
    "version": 3
   },
   "file_extension": ".py",
   "mimetype": "text/x-python",
   "name": "python",
   "nbconvert_exporter": "python",
   "pygments_lexer": "ipython3",
   "version": "3.7.6"
  }
 },
 "nbformat": 4,
 "nbformat_minor": 4
}
