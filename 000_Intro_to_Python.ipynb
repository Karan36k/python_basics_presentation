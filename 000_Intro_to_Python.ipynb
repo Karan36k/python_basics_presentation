{
 "cells": [
  {
   "cell_type": "markdown",
   "metadata": {},
   "source": [
    "<small><small><i>\n",
    "All the IPython Notebooks in **Python Introduction** lecture series by **[Dr. Milaan Parmar](https://www.linkedin.com/in/milaanparmar/)** are available @ **[GitHub](https://github.com/milaan9/01_Python_Introduction)**\n",
    "</i></small></small>"
   ]
  },
  {
   "cell_type": "markdown",
   "metadata": {},
   "source": [
    "# Learn Python Programming\n",
    "<br>\n",
    "<div>\n",
    "<img src=\"img/logo.png\" width=\"200\"/>\n",
    "</div>\n",
    "\n",
    "Python is a **general-purpose, mordern, dynamic, robust, high level** and **interpreted** programming language. It is used in web development, data science, creating software prototypes, and so on. Fortunately for beginners, Python has simple easy-to-use syntax. This makes Python an excellent language to learn to program for beginners."
   ]
  },
  {
   "cell_type": "markdown",
   "metadata": {},
   "source": [
    "## [Python Introduction](https://github.com/milaan9/01_Python_Introduction)\n",
    "\n",
    "✅ **[What is Programming?](https://github.com/milaan9/01_Python_Introduction/blob/main/0000_What_is_Programming.ipynb)**\n",
    "\n",
    "✅ **[Introduction to Python](https://github.com/milaan9/01_Python_Introduction/blob/main/000_Intro_to_Python.ipynb)**\n",
    "\n",
    "✅ **[Python Programming](https://github.com/milaan9/01_Python_Introduction/blob/main/001_Python_Programming.ipynb)**\n",
    "\n",
    "✅ **[Getting Started](https://github.com/milaan9/01_Python_Introduction/blob/main/002_How_to_install_Python.ipynb)**\n",
    "\n",
    "✅ **[Jupyter Keyboard Shortcuts Practice](https://github.com/milaan9/01_Python_Introduction/blob/main/003_Jupyter_Keyboard_Shortcuts_Practice.ipynb)**\n",
    "\n",
    "✅ **[Hello World](https://github.com/milaan9/01_Python_Introduction/blob/main/004_Hello_World.ipynb)**\n",
    "\n",
    "✅ **[Keywords and Identifiers](https://github.com/milaan9/01_Python_Introduction/blob/main/005_Python_Keywords_and_Identifiers.ipynb)**\n",
    "\n",
    "✅ **[Statements, Indentation & Comments](https://github.com/milaan9/01_Python_Introduction/blob/main/006_Python_Statement_Indentation_Comments.ipynb)**\n",
    "\n",
    "✅ **[Python Variables & Constants](https://github.com/milaan9/01_Python_Introduction/blob/main/007_Python_Variables_%26_Constants.ipynb)**\n",
    "\n",
    "✅ **[Python Literals](https://github.com/milaan9/01_Python_Introduction/blob/main/008_Python_Literals.ipynb)**\n",
    "\n",
    "✅ **[Python Datatypes](https://github.com/milaan9/01_Python_Introduction/blob/main/009_Python_Data_Types.ipynb)**\n",
    "\n",
    "✅ **[Python Type Conversion](https://github.com/milaan9/01_Python_Introduction/blob/main/010_Python_Type_Conversion.ipynb)**\n",
    "\n",
    "✅ **[Python I/O and import](https://github.com/milaan9/01_Python_Introduction/blob/main/011_Python_Input_Output_Import.ipynb)**\n",
    "\n",
    "✅ **[Python Operators](https://github.com/milaan9/01_Python_Introduction/blob/main/012_Python_Operators.ipynb)**\n",
    "\n",
    "✅ **[Python Namespace & Scope](https://github.com/milaan9/01_Python_Introduction/blob/main/013_Python_Namespace_and_Scope.ipynb)**\n",
    "\n",
    "✅ **[Python Keyword List](https://github.com/milaan9/01_Python_Introduction/blob/main/Python_Keywords_List.ipynb)**"
   ]
  },
  {
   "cell_type": "markdown",
   "metadata": {},
   "source": [
    "## [Python Data Types](https://github.com/milaan9/02_Python_Datatypes)\n",
    "\n",
    "✅ **[Python Numbers](https://github.com/milaan9/02_Python_Datatypes/blob/main/001_Python_Numbers.ipynb)**\n",
    "\n",
    "✅ **[Python String](https://github.com/milaan9/02_Python_Datatypes/blob/main/002_Python_String.ipynb)**\n",
    "\n",
    "✅ **[Python List](https://github.com/milaan9/02_Python_Datatypes/blob/main/003_Python_List.ipynb)**\n",
    "\n",
    "✅ **[Python Tuple](https://github.com/milaan9/02_Python_Datatypes/blob/main/004_Python_Tuple.ipynb)**\n",
    "\n",
    "✅ **[Python Dictionary](https://github.com/milaan9/02_Python_Datatypes/blob/main/005_Python_Dictionary.ipynb)**\n",
    "\n",
    "✅ **[Python Sets](https://github.com/milaan9/02_Python_Datatypes/blob/main/006_Python_Sets.ipynb)**"
   ]
  },
  {
   "cell_type": "markdown",
   "metadata": {},
   "source": [
    "## [Python Flow Control](https://github.com/milaan9/03_Python_Flow_Control)\n",
    "\n",
    "✅ **[Python Flow Control Statement](https://github.com/milaan9/03_Python_Flow_Control/blob/main/000_Python_Flow_Control_statement%20.ipynb)**\n",
    "\n",
    "✅ **[Python if statement](https://github.com/milaan9/03_Python_Flow_Control/blob/main/001_Python_if_statement.ipynb)**\n",
    "\n",
    "✅ **[Python if-else statement](https://github.com/milaan9/03_Python_Flow_Control/blob/main/002_Python_if_else_statement.ipynb)**\n",
    "\n",
    "✅ **[Python if-elif-else statement](https://github.com/milaan9/03_Python_Flow_Control/blob/main/003_Python_if_elif_else_statement%20.ipynb)**\n",
    "\n",
    "✅ **[Python Nested if statement](https://github.com/milaan9/03_Python_Flow_Control/blob/main/004_Python_Nested_if_statement.ipynb)**\n",
    "\n",
    "✅ **[Python for loop](https://github.com/milaan9/03_Python_Flow_Control/blob/main/005_Python_for_Loop.ipynb)**\n",
    "\n",
    "✅ **[Python while loop](https://github.com/milaan9/03_Python_Flow_Control/blob/main/006_Python_while_Loop.ipynb)**\n",
    "\n",
    "✅ **[Python break, continue & pass statements](https://github.com/milaan9/03_Python_Flow_Control/blob/main/007_Python_break_continue_pass_statements.ipynb)**"
   ]
  },
  {
   "cell_type": "markdown",
   "metadata": {},
   "source": [
    "## [Python Functions](https://github.com/milaan9/04_Python_Functions)\n",
    "\n",
    "✅ **[Python Functions](https://github.com/milaan9/04_Python_Functions/blob/main/001_Python_Functions.ipynb)**\n",
    "\n",
    "✅ **[Global, Local & Nonlocal](https://github.com/milaan9/04_Python_Functions/blob/main/002_Python_Function_Global_Local_Nonlocal.ipynb)**\n",
    "\n",
    "✅ **[Global keyword](https://github.com/milaan9/04_Python_Functions/blob/main/003_Python_Function_global_Keywords.ipynb)**\n",
    "\n",
    "✅ **[Function Argument](https://github.com/milaan9/04_Python_Functions/blob/main/004_Python_Function_Arguments.ipynb)**\n",
    "\n",
    "✅ **[Function Recursion](https://github.com/milaan9/04_Python_Functions/blob/main/005_Python_Function_Recursion.ipynb)**\n",
    "\n",
    "✅ **[Function Anonymous](https://github.com/milaan9/04_Python_Functions/blob/main/006_Python_Function_Anonymous.ipynb)**\n",
    "\n",
    "✅ **[Function Module](https://github.com/milaan9/04_Python_Functions/blob/main/007_Python_Function_Module.ipynb)**\n",
    "\n",
    "✅ **[Function random Module](https://github.com/milaan9/04_Python_Functions/blob/main/008_Python_Function_random_Module.ipynb)**\n",
    "\n",
    "✅ **[Function math Module](https://github.com/milaan9/04_Python_Functions/blob/main/009_Python_Function_math_Module.ipynb.ipynb)**\n",
    "\n",
    "✅ **[Function Package](https://github.com/milaan9/04_Python_Functions/blob/main/010_Python_Function_Package.ipynb)**\n",
    "\n",
    "✅ **[Python Docstrings](https://github.com/milaan9/04_Python_Functions/blob/main/Python_Docstrings.ipynb)**\n",
    "\n",
    "✅ **[User-defined Function](https://github.com/milaan9/04_Python_Functions/blob/main/Python_User_defined_Functions.ipynb)**"
   ]
  },
  {
   "cell_type": "markdown",
   "metadata": {},
   "source": [
    "## [Python Files](https://github.com/milaan9/05_Python_Files)\n",
    "\n",
    "✅ **[Python File I/O](https://github.com/milaan9/05_Python_Files/blob/main/001_Python_File_Input_Output.ipynb)**\n",
    "\n",
    "✅ **[Python File Directory](https://github.com/milaan9/05_Python_Files/blob/main/002_Python_File_Directory.ipynb)**\n",
    "\n",
    "✅ **[Python File Exception](https://github.com/milaan9/05_Python_Files/blob/main/003_Python_File_Exception.ipynb)**\n",
    "\n",
    "✅ **[Python Exceptions Handeling](https://github.com/milaan9/05_Python_Files/blob/main/004_Python_Exceptions_Handling.ipynb)**\n",
    "\n",
    "✅ **[Python User-defined Exceptions](https://github.com/milaan9/05_Python_Files/blob/main/005_Python_User_defined_Exceptions.ipynb)**"
   ]
  },
  {
   "cell_type": "markdown",
   "metadata": {},
   "source": [
    "## [Python Object Class](https://github.com/milaan9/06_Python_Object_Class)\n",
    "\n",
    "✅ **[Python OOPs Concepts](https://github.com/milaan9/06_Python_Object_Class/blob/main/001_Python_OOPs_Concepts.ipynb)**\n",
    "\n",
    "✅ **[Python Classes & Objects](https://github.com/milaan9/06_Python_Object_Class/blob/main/002_Python_Classes_and_Objects.ipynb)**\n",
    "\n",
    "✅ **[Python Inheritance](https://github.com/milaan9/06_Python_Object_Class/blob/main/003_Python_Inheritance.ipynb)**\n",
    "\n",
    "✅ **[Python Operator Overloading](https://github.com/milaan9/06_Python_Object_Class/blob/main/004_Python_Operator_Overloading.ipynb)**"
   ]
  },
  {
   "cell_type": "markdown",
   "metadata": {},
   "source": [
    "## [Python Advanced Topics](https://github.com/milaan9/07_Python_Advanced_Topics)\n",
    "\n",
    "✅ **[Python Iterator](https://github.com/milaan9/07_Python_Advanced_Topics/blob/main/001_Python_Iterators.ipynb)**\n",
    "\n",
    "✅ **[Python Generator](https://github.com/milaan9/07_Python_Advanced_Topics/blob/main/002_Python_Generators.ipynb)**\n",
    "\n",
    "✅ **[Python Closure](https://github.com/milaan9/07_Python_Advanced_Topics/blob/main/003_Python_Closure.ipynb)**\n",
    "\n",
    "✅ **[Python Decorators](https://github.com/milaan9/07_Python_Advanced_Topics/blob/main/004_Python_Decorators.ipynb)**\n",
    "\n",
    "✅ **[Python Property](https://github.com/milaan9/07_Python_Advanced_Topics/blob/main/005_Python_Property.ipynb)**\n",
    "\n",
    "✅ **[Python RegEx](https://github.com/milaan9/07_Python_Advanced_Topics/blob/main/006_Python_RegEx.ipynb)**"
   ]
  },
  {
   "cell_type": "markdown",
   "metadata": {},
   "source": [
    "## [Python Date & Time Module](https://github.com/milaan9/08_Python_Date_Time_Module)\n",
    "\n",
    "✅ **[Python datetime Module](https://github.com/milaan9/08_Python_Date_Time_Module/blob/main/001_Python_datetime_Module.ipynb)**\n",
    "\n",
    "✅ **[Python datetime.strftime()](https://github.com/milaan9/08_Python_Date_Time_Module/blob/main/002_Python_strftime%28%29.ipynb)**\n",
    "\n",
    "✅ **[Python datetime.strptime()](https://github.com/milaan9/08_Python_Date_Time_Module/blob/main/003_Python_strptime%28%29.ipynb)**\n",
    "\n",
    "✅ **[Current date & time](https://github.com/milaan9/08_Python_Date_Time_Module/blob/main/004_Python_current_date_and_time.ipynb)**\n",
    "\n",
    "✅ **[Get current time](https://github.com/milaan9/08_Python_Date_Time_Module/blob/main/005_Python_get_current_time.ipynb)**\n",
    "\n",
    "✅ **[Timestamp to datetime](https://github.com/milaan9/08_Python_Date_Time_Module/blob/main/006_Python_timestamp_to_datetime.ipynb)**\n",
    "\n",
    "✅ **[Python time Module](https://github.com/milaan9/08_Python_Date_Time_Module/blob/main/007_Python_time_Module.ipynb)**\n",
    "\n",
    "✅ **[Python time.sleep()](https://github.com/milaan9/08_Python_Date_Time_Module/blob/main/008_Python_sleep%28%29.ipynb)**"
   ]
  },
  {
   "cell_type": "markdown",
   "metadata": {},
   "source": [
    "## [Python Numpy Module](https://github.com/milaan9/09_Python_NumPy_Module)\n",
    "\n",
    "✅ **[Python Numpy](https://github.com/milaan9/09_Python_NumPy_Module/blob/main/001_Python_NumPy.ipynb)**\n",
    "\n",
    "✅ **[Python Numpy Array](https://github.com/milaan9/09_Python_NumPy_Module/blob/main/002_Python_NumPy_Array.ipynb)**"
   ]
  },
  {
   "cell_type": "markdown",
   "metadata": {},
   "source": [
    "## [Python Pandas Module](https://github.com/milaan9/10_Python_Pandas_Module)\n",
    "\n",
    "✅ **[Python Pandas Dataframe](https://github.com/milaan9/10_Python_Pandas_Module/blob/main/001_Python_Pandas_DataFrame.ipynb)**\n",
    "\n",
    "✅ **[Python Pandas Exercise 1](https://github.com/milaan9/10_Python_Pandas_Module/blob/main/002_Python_Pandas_Exercise_1.ipynb)**\n",
    "\n",
    "✅ **[Python Pandas Exercise 2](https://github.com/milaan9/10_Python_Pandas_Module/blob/main/003_Python_Pandas_Exercise_2.ipynb)**"
   ]
  },
  {
   "cell_type": "markdown",
   "metadata": {},
   "source": [
    "## [Python Matplotlib Module](https://github.com/milaan9/11_Python_Matplotlib_Module)\n",
    "\n",
    "✅ **[Python Matplotlib pyplot]()**\n",
    "\n",
    "✅ **[Python Matplotlib Exercise 1](https://github.com/milaan9/11_Python_Matplotlib_Module/blob/main/002_Python_Matplotlib_Exercise_1.ipynb)**\n",
    "\n",
    "✅ **[Python Matplotlib Exercise 2](https://github.com/milaan9/11_Python_Matplotlib_Module/blob/main/003_Python_Matplotlib_Exercise_2.ipynb)**"
   ]
  },
  {
   "cell_type": "markdown",
   "metadata": {},
   "source": [
    "## About Python Programming\n",
    "\n",
    "* **Free and open-source** - You can freely use and distribute Python, even for commercial use.\n",
    "* **Easy to learn** - Python has a very simple and elegant syntax. It's much easier to read and write Python programs compared to other languages like C++, Java, C#.\n",
    "* **Portable** - You can move Python programs from one platform to another, and run it without any changes."
   ]
  },
  {
   "cell_type": "markdown",
   "metadata": {},
   "source": [
    "## Why Learn Python?\n",
    "\n",
    "* Python is easy to learn. Its syntax is easy and code is very readable.\n",
    "* Python has a lot of applications. It's used for developing web applications, data science, rapid application development, and so on.\n",
    "* Python allows you to write programs in fewer lines of code than most of the programming languages.\n",
    "* The popularity of Python is growing rapidly. Now it's one of the most popular programming languages."
   ]
  },
  {
   "cell_type": "markdown",
   "metadata": {},
   "source": [
    "## How to learn Python?\n",
    "\n",
    "* **Python classes** - We provide step by step Python tutorials, examples, and references. **[Get started with Python]()**.\n",
    "* **Official Python tutorial** - Might be hard to follow and understand for beginners. Visit the official **[Python tutorial](https://docs.python.org/3/tutorial/)**.\n",
    "* **Write a lot of Python code** - The only way you can learn programming is by writing a lot of code."
   ]
  },
  {
   "cell_type": "markdown",
   "metadata": {},
   "source": [
    "## Python Resources\n",
    "\n",
    "* **[Python Examples](https://github.com/milaan9/90_Python_Examples)**\n",
    "* **[Python References](https://github.com/milaan9/04_Python_Functions/tree/main/002_Python_Functions_Built_in)**\n",
    "* **[Python Online Compiler 1](https://www.w3schools.com/python/trypython.asp?filename=demo_compiler)**\n",
    "* **[Python Online Compiler 2](https://www.tutorialspoint.com/execute_python_online.php)**\n",
    "* **[Python Guide](https://github.com/milaan9/01_Python_Introduction/blob/main/001_Python_Programming.ipynb)**"
   ]
  },
  {
   "cell_type": "markdown",
   "metadata": {},
   "source": []
  }
 ],
 "metadata": {
  "hide_input": false,
  "kernelspec": {
   "display_name": "Python 3 (ipykernel)",
   "language": "python",
   "name": "python3"
  },
  "language_info": {
   "codemirror_mode": {
    "name": "ipython",
    "version": 3
   },
   "file_extension": ".py",
   "mimetype": "text/x-python",
   "name": "python",
   "nbconvert_exporter": "python",
   "pygments_lexer": "ipython3",
   "version": "3.10.9"
  },
  "toc": {
   "base_numbering": 1,
   "nav_menu": {},
   "number_sections": true,
   "sideBar": true,
   "skip_h1_title": false,
   "title_cell": "Table of Contents",
   "title_sidebar": "Contents",
   "toc_cell": false,
   "toc_position": {},
   "toc_section_display": true,
   "toc_window_display": false
  },
  "varInspector": {
   "cols": {
    "lenName": 16,
    "lenType": 16,
    "lenVar": 40
   },
   "kernels_config": {
    "python": {
     "delete_cmd_postfix": "",
     "delete_cmd_prefix": "del ",
     "library": "var_list.py",
     "varRefreshCmd": "print(var_dic_list())"
    },
    "r": {
     "delete_cmd_postfix": ") ",
     "delete_cmd_prefix": "rm(",
     "library": "var_list.r",
     "varRefreshCmd": "cat(var_dic_list()) "
    }
   },
   "types_to_exclude": [
    "module",
    "function",
    "builtin_function_or_method",
    "instance",
    "_Feature"
   ],
   "window_display": false
  }
 },
 "nbformat": 4,
 "nbformat_minor": 2
}
